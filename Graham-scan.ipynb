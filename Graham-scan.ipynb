{
 "cells": [
  {
   "cell_type": "code",
   "execution_count": 2,
   "id": "02388cb4",
   "metadata": {},
   "outputs": [],
   "source": [
    "import numpy as np\n",
    "import matplotlib.pyplot as plt\n",
    "\n",
    "##############################################################\n",
    "\n",
    "def angle(x1,x2): \n",
    "    # function to compute \"angle\" of line between two points, including collinearity with x2\n",
    "    # In particular where x1=x2 set value to be (small_number)*(y1-y2) (so y sorted but near 0)\n",
    "    # where y1=y2 set value to be (large_number)/(x1-x2) (so inverse x sorted and most negative overall)\n",
    "    # This gives appropriate sorting order\n",
    "    \n",
    "    igrad = (x2[0]-x1[0])/(x2[1]-x1[1]+1.e-16)\n",
    "    \n",
    "    return np.where(x1[1]!=x2[1],\n",
    "                    np.where(x1[0]!=x2[0], igrad, 1.e-16*(x1[1]-x2[1])),\n",
    "                    1.e16/(x1[0]-x2[0]+1.e-16)) # eps prevents /0 and orders x2 last\n",
    "##############################################################\n",
    "\n",
    "def angle_simple(x1,x2): # Does not catch edge cases\n",
    "    return (1.e-16+x2[0]-x1[0])/(x2[1]-x1[1]+1.e-32) # eps prevents /0 and orders x2 last\n",
    "##############################################################\n",
    "\n",
    "def cross(x1,x2,x3): # function to compute the vector product of vector (x2-x1) and (x3-x1) \n",
    "    return (x2[0] - x1[0])*(x3[1] - x1[1]) - (x2[1] - x1[1])*(x3[0] - x1[0])\n",
    "\n",
    "##############################################################\n",
    "\n",
    "def get_hull(points):\n",
    "    \n",
    "    # Find the bottom right point to start from (only need rightmost if colinear)\n",
    "    ip0 =  np.argmin(points[1,:])\n",
    "    ip0 = np.where((points[1,:] == points[1,ip0])*(points[0,:] == np.max(points[0,points[1,:]==points[1,ip0]])))[0][0]\n",
    "                    \n",
    "    sg = angle(points[:,:],points[:,ip0]) # Find the \"inv gradient\" of all points w.r.t the first  \n",
    "    isp = np.argsort(sg)                  # Sort these\n",
    "                                          # Start the hull with lowest and the largest angle from it\n",
    "    hull = np.array([[points[0,ip0],points[0,isp[0]]],[points[1,ip0],points[1,isp[0]]]])\n",
    "    \n",
    "    for i in isp[1:-1]:                                           # loop over ordered points        \n",
    "        hull = np.append(hull,points[:,i].reshape(2,1),axis=1)    # temporarily add the next point\n",
    "        cr = cross(hull[:,-3],hull[:,-2],hull[:,-1])              # find the vector product (turning angle)\n",
    "\n",
    "        while(cr>-3.e-16 and np.size(hull[0,:])>3):# for left turns (cr>0) or collinear cr==0 remove and repeat\n",
    "            hull = np.delete(hull,-2,axis=1)                    \n",
    "            cr = cross(hull[:,-3],hull[:,-2],hull[:,-1])\n",
    "    return hull\n",
    "\n",
    "##############################################################\n",
    "    \n"
   ]
  },
  {
   "cell_type": "code",
   "execution_count": 3,
   "id": "3618960e",
   "metadata": {},
   "outputs": [
    {
     "data": {
      "image/png": "[encoded data removed]",
      "text/plain": [
       "<Figure size 640x480 with 1 Axes>"
      ]
     },
     "metadata": {},
     "output_type": "display_data"
    },
    {
     "data": {
      "text/plain": [
       "7"
      ]
     },
     "execution_count": 3,
     "metadata": {},
     "output_type": "execute_result"
    }
   ],
   "source": [
    "### BEGIN HIDDEN TESTS\n",
    "import numpy as np\n",
    "import matplotlib.pyplot as plt\n",
    "\n",
    "nbg_score = 0\n",
    "\n",
    "from scipy.spatial import ConvexHull\n",
    "\n",
    "def get_hull_symp(points):  # This code extracts the scipy convex hull in the correct format for comparison\n",
    "    pts = points.transpose()\n",
    "    hull_symp = ConvexHull(pts)\n",
    "    ip = list(set(hull_symp.simplices[:,0])|set(hull_symp.simplices[:,1]))\n",
    "    return points[:,ip]\n",
    "\n",
    "N = 20\n",
    "points = np.random.rand(2,N)\n",
    "hull = get_hull(points)\n",
    "hullTest = get_hull_symp(points)\n",
    "\n",
    "if(type(hull)==type(points)):   # first check the type is correct\n",
    "    nbg_score += 1\n",
    "else:\n",
    "    print('hull output does not have the correct type')\n",
    "    # attempt a conversion\n",
    "    hull = np.array(hull)\n",
    "\n",
    "if(np.shape(hull) == np.shape(hullTest)):  # important that the hull is the correct size and shape\n",
    "    nbg_score += 2\n",
    "else:\n",
    "    print('hull output does not have the correct shape or size')\n",
    "    print(np.shape(hull),np.shape(hullTest))\n",
    "    # attempt a reshape\n",
    "    if(np.size(hull)!=np.size(hullTest)):\n",
    "        print('wrong number of points in the hull')\n",
    "    else:\n",
    "        hull = hull.reshape(np.shape(hullTest))  # we can reshape if the data is simply not laid out correctly\n",
    "\n",
    "ip0 = np.argmin(points[1,:])\n",
    "if (hull[:,0]==points[:,ip0]).all():\n",
    "    nbg_score += 1\n",
    "else:\n",
    "    print('hull does not begin with lowest point')\n",
    "\n",
    "if ((set(hull[0])==set(hullTest[0])) and (set(hull[1])==set(hullTest[1]))):\n",
    "    nbg_score += 2\n",
    "else:\n",
    "    print('hull does not recover correct points')\n",
    "    \n",
    "plt.plot(points[0,:],points[1,:],'.')\n",
    "plt.plot(np.append(hull[0,:],hull[0,0]),np.append(hull[1,:],hull[1,0]))\n",
    "plt.show()\n",
    "\n",
    "# Final weaker test with N=3 (hull=points)\n",
    "points = np.random.rand(2,3)\n",
    "hull3 = get_hull(points)\n",
    "if ((set(hull3[0])==set(points[0])) and (set(hull3[1])==set(points[1]))):\n",
    "    nbg_score += 1\n",
    "else:\n",
    "    print('get_hull should return all points when N=3!')\n",
    "    \n",
    "nbg_score\n",
    "\n",
    "### END HIDDEN TESTS"
   ]
  }
 ],
 "metadata": {
  "kernelspec": {
   "display_name": "Python 3 (ipykernel)",
   "language": "python",
   "name": "python3"
  },
  "language_info": {
   "codemirror_mode": {
    "name": "ipython",
    "version": 3
   },
   "file_extension": ".py",
   "mimetype": "text/x-python",
   "name": "python",
   "nbconvert_exporter": "python",
   "pygments_lexer": "ipython3",
   "version": "3.10.10"
  }
 },
 "nbformat": 4,
 "nbformat_minor": 5
}
